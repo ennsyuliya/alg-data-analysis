{
 "cells": [
  {
   "attachments": {},
   "cell_type": "markdown",
   "metadata": {
    "id": "FM6XV3IlabW_"
   },
   "source": [
    "# Урок 4. Практическое задание к уроку деревья решений"
   ]
  },
  {
   "attachments": {},
   "cell_type": "markdown",
   "metadata": {},
   "source": [
    "### Подготовка к решению"
   ]
  },
  {
   "cell_type": "code",
   "execution_count": 119,
   "metadata": {},
   "outputs": [
    {
     "name": "stdout",
     "output_type": "stream",
     "text": [
      "Requirement already satisfied: graphviz in c:\\users\\enns\\anaconda3\\lib\\site-packages (0.20.1)\n"
     ]
    }
   ],
   "source": [
    "!pip install graphviz"
   ]
  },
  {
   "cell_type": "code",
   "execution_count": 120,
   "metadata": {
    "id": "u7Xi827dabXb"
   },
   "outputs": [],
   "source": [
    "import matplotlib.pyplot as plt\n",
    "import random\n",
    "\n",
    "from matplotlib.colors import ListedColormap\n",
    "from sklearn import datasets\n",
    "from sklearn import model_selection\n",
    "from graphviz import Digraph # если дерево ниже не отображается, требуется установить библиотеку python-graphviz\n",
    "\n",
    "import numpy as np"
   ]
  },
  {
   "attachments": {},
   "cell_type": "markdown",
   "metadata": {},
   "source": [
    "### 1. В коде из методички реализуйте один или несколько из критериев останова (количество листьев, количество используемых признаков, глубина дерева и т.д.)."
   ]
  },
  {
   "cell_type": "code",
   "execution_count": 121,
   "metadata": {},
   "outputs": [],
   "source": [
    "# dot = Digraph(node_attr={'shape': 'box'})\n",
    " \n",
    "# dot.node('A', label='Клиент старше 18 лет?')\n",
    "# dot.node('B', label='Превышает ли его заработок 50 тысяч рублей?')\n",
    "# dot.node('C', label='Отказать')\n",
    "# dot.node('D', label='Были ли у клиента просроченные кредиты ранее?')\n",
    "# dot.node('E', label='Отказать')\n",
    "# dot.node('F', label='Отказать')\n",
    "# dot.node('G', label='Выдать')\n",
    " \n",
    "# dot.edge('A', 'B', label='да')\n",
    "# dot.edge('A', 'C', label='нет')\n",
    "# dot.edge('B', 'D', label='да')\n",
    "# dot.edge('B', 'E', label='нет')\n",
    "# dot.edge('D', 'F', label='да')\n",
    "# dot.edge('D', 'G', label='нет')\n",
    " \n",
    "# # dot"
   ]
  },
  {
   "cell_type": "code",
   "execution_count": 122,
   "metadata": {},
   "outputs": [],
   "source": [
    "# Класс узла\n",
    "class Node:\n",
    "    \n",
    "    def __init__(self, index, t, true_branch, false_branch):\n",
    "        self.index = index  # индекс признака, по которому ведется сравнение с порогом в этом узле\n",
    "        self.t = t  # значение порога\n",
    "        self.true_branch = true_branch  # поддерево, удовлетворяющее условию в узле\n",
    "        self.false_branch = false_branch  # поддерево, не удовлетворяющее условию в узле\n",
    "\n",
    "    def __str__(self):\n",
    "        return f'Признак: {self.index}\\nПорог: {self.t:.2f}'\n",
    "        \n",
    "# Класс терминального узла (листа)\n",
    "class Leaf:\n",
    "    \n",
    "    def __init__(self, data, labels):\n",
    "        self.data = data\n",
    "        self.labels = labels  # y_true\n",
    "        self.prediction = self.predict()  # y_pred\n",
    "        \n",
    "    def predict(self):\n",
    "        # подсчет количества объектов разных классов\n",
    "        classes = {}  # сформируем словарь \"класс: количество объектов\"\n",
    "        for label in self.labels:\n",
    "            if label not in classes:\n",
    "                classes[label] = 0\n",
    "            classes[label] += 1\n",
    "        #  найдем класс, количество объектов которого будет максимальным в этом листе и вернем его    \n",
    "        prediction = max(classes, key=classes.get)\n",
    "        return prediction"
   ]
  },
  {
   "cell_type": "code",
   "execution_count": 123,
   "metadata": {},
   "outputs": [],
   "source": [
    "# Расчет критерия Джини\n",
    "def gini(labels):\n",
    "    #  подсчет количества объектов разных классов\n",
    "    classes = {}\n",
    "    for label in labels:\n",
    "        if label not in classes:\n",
    "            classes[label] = 0\n",
    "        classes[label] += 1\n",
    "    \n",
    "    #  расчет критерия\n",
    "    impurity = 1     # \"impurity\" - \"нечистота\", степень неопределенности\n",
    "    for label in classes:\n",
    "        p = classes[label] / len(labels)\n",
    "        impurity -= p ** 2\n",
    "        \n",
    "    return impurity"
   ]
  },
  {
   "cell_type": "code",
   "execution_count": 124,
   "metadata": {},
   "outputs": [],
   "source": [
    "# Расчет качества\n",
    "def quality(left_labels, right_labels, current_gini):\n",
    "\n",
    "    # доля выборки, ушедшей в левое поддерево\n",
    "    p = float(left_labels.shape[0]) / (left_labels.shape[0] + right_labels.shape[0]) # для правого (1-p)\n",
    "    \n",
    "    return current_gini - p * gini(left_labels) - (1 - p) * gini(right_labels)"
   ]
  },
  {
   "cell_type": "code",
   "execution_count": 125,
   "metadata": {},
   "outputs": [],
   "source": [
    "# Разбиение датасета в узле\n",
    "def split(data, labels, index, t):\n",
    "    \n",
    "    left = np.where(data[:, index] <= t)\n",
    "    right = np.where(data[:, index] > t)\n",
    "        \n",
    "    true_data = data[left]\n",
    "    false_data = data[right]\n",
    "    true_labels = labels[left]\n",
    "    false_labels = labels[right]\n",
    "        \n",
    "    return true_data, false_data, true_labels, false_labels"
   ]
  },
  {
   "cell_type": "code",
   "execution_count": 126,
   "metadata": {},
   "outputs": [],
   "source": [
    "# Нахождение наилучшего разбиения\n",
    "def find_best_split(data, labels):\n",
    "    \n",
    "    #  обозначим минимальное количество объектов в узле\n",
    "    min_leaf = 5\n",
    "\n",
    "    current_gini = gini(labels)\n",
    "\n",
    "    best_quality = 0\n",
    "    best_t = None\n",
    "    best_index = None\n",
    "    \n",
    "    n_features = data.shape[1]\n",
    "    \n",
    "    for index in range(n_features):\n",
    "        t_values = [row[index] for row in data]\n",
    "        \n",
    "        for t in t_values:\n",
    "            true_data, false_data, true_labels, false_labels = split(data, labels, index, t)\n",
    "            #  пропускаем разбиения, в которых в узле остается менее 5 объектов\n",
    "            if len(true_data) < min_leaf or len(false_data) < min_leaf:\n",
    "                continue\n",
    "            \n",
    "            current_quality = quality(true_labels, false_labels, current_gini)\n",
    "            \n",
    "            #  выбираем порог, на котором получается максимальный прирост качества\n",
    "            if current_quality > best_quality:\n",
    "                best_quality, best_t, best_index = current_quality, t, index\n",
    "\n",
    "    return best_quality, best_t, best_index"
   ]
  },
  {
   "attachments": {},
   "cell_type": "markdown",
   "metadata": {},
   "source": [
    "#### Решение:"
   ]
  },
  {
   "cell_type": "code",
   "execution_count": null,
   "metadata": {},
   "outputs": [],
   "source": [
    "# #ограничение по глубине дерева\n",
    "# def build_tree(data, labels, level_limit=2, leaf_limit=2, max_level=4):\n",
    "#     if max_level < 0: raise Exception('Logic errror')\n",
    "#     quality, t, index = find_best_split(data, labels)\n",
    "\n",
    "#     if quality == 0 or level_limit or leaf_limit or all(l == labels[0] for l in labels):\n",
    "#         return Leaf(data, labels)\n",
    "    \n",
    "#     true_data, false_data, true_labels, false_labels = split(data, labels, index, t)\n",
    "\n",
    "#     true_branch  = build_tree(true_data,  true_labels,  max_level - 1)\n",
    "#     false_branch = build_tree(false_data, false_labels, max_level - 1)\n",
    "\n",
    "#     # Возвращаем класс узла со всеми поддеревьями, то есть целого дерева\n",
    "#     return Node(index, t, true_branch, false_branch)"
   ]
  },
  {
   "cell_type": "code",
   "execution_count": 127,
   "metadata": {},
   "outputs": [],
   "source": [
    "leaf_count = 0\n",
    "level = 0\n",
    "\n",
    "# Построение дерева с помощью рекурсивной функции\n",
    "def build_tree(data, labels, leaf_limit=2 ** 32, level_limit=2 ** 32):\n",
    "    global leaf_count, level\n",
    "    \n",
    "    quality, t, index = find_best_split(data, labels)    \n",
    "\n",
    "    if quality == 0 or leaf_count + 1 == leaf_limit or level == level_limit or all(l == labels[0] for l in labels):        \n",
    "        return Leaf(data, labels)\n",
    "        \n",
    "    true_data, false_data, true_labels, false_labels = split(data, labels, index, t)\n",
    "\n",
    "    # Рекурсивно строим два поддерева\n",
    "    level += 1    \n",
    "    \n",
    "    leaf_count += 1   \n",
    "    true_branch = build_tree(true_data, true_labels, leaf_limit, level_limit)    \n",
    "    leaf_count += 1 \n",
    "    false_branch = build_tree(false_data, false_labels, leaf_limit, level_limit)\n",
    "    \n",
    "    # Возвращаем класс узла со всеми поддеревьями, то есть целого дерева\n",
    "    return Node(index, t, true_branch, false_branch)"
   ]
  },
  {
   "attachments": {},
   "cell_type": "markdown",
   "metadata": {},
   "source": [
    "##### Тестирование:"
   ]
  },
  {
   "cell_type": "code",
   "execution_count": 128,
   "metadata": {},
   "outputs": [],
   "source": [
    "# сгенерируем данные\n",
    "classification_data, classification_labels = datasets.make_classification(n_features = 2, n_informative = 2, \n",
    "                                                      n_classes = 2, n_redundant=0, \n",
    "                                                      n_clusters_per_class=1, random_state=5)\n",
    "\n",
    "train_data, test_data, train_labels, test_labels = model_selection.train_test_split(classification_data, \n",
    "                                                                                     classification_labels, \n",
    "                                                                                     test_size = 0.3,\n",
    "                                                                                     random_state = 1)\n",
    "\n",
    "# Построим дерево по обучающей выборке\n",
    "leaf_count = 0\n",
    "level = 0\n",
    "my_tree = build_tree(train_data, train_labels, \n",
    "                     leaf_limit=4, \n",
    "                     level_limit=3)"
   ]
  },
  {
   "attachments": {},
   "cell_type": "markdown",
   "metadata": {},
   "source": [
    "##### Проверка:"
   ]
  },
  {
   "cell_type": "code",
   "execution_count": 129,
   "metadata": {},
   "outputs": [],
   "source": [
    "leaf_count = 0\n",
    "\n",
    "# Напечатаем структуру нашего дерева\n",
    "def print_tree(node, prev_node):\n",
    "    global leaf_count\n",
    "    \n",
    "    # Если лист, то выводим его прогноз\n",
    "    if isinstance(node, Leaf):\n",
    "#         dot.node(f'leaf {leaf_count}', label=f'leaf {leaf_count}\\nПрогноз: {node.prediction}')        \n",
    "        dot.edge(str(prev_node.t), f'leaf {leaf_count}')\n",
    "        leaf_count += 1\n",
    "        return\n",
    "\n",
    "    # Рекурсионный вызов функции на положительном поддереве\n",
    "    dot.node(str(node.t), label=str(node))\n",
    "    if prev_node is not None:\n",
    "        dot.edge(str(prev_node.t), str(node.t))\n",
    "        \n",
    "    print_tree(node.true_branch, node)\n",
    "\n",
    "    # Рекурсионный вызов функции на отрицательном поддереве\n",
    "    dot.node(str(node.t), label=str(node))\n",
    "    print_tree(node.false_branch, node)\n",
    "\n",
    "dot = Digraph(node_attr={'shape': 'box'})    \n",
    "print_tree(my_tree, None)   \n",
    "# dot"
   ]
  },
  {
   "cell_type": "code",
   "execution_count": 130,
   "metadata": {},
   "outputs": [],
   "source": [
    "leaf_count = 0\n",
    "level = 0\n",
    "my_tree = build_tree(train_data, train_labels)\n",
    "\n",
    "leaf_count = 0\n",
    "\n",
    "dot = Digraph(node_attr={'shape': 'box'})    \n",
    "print_tree(my_tree, None)"
   ]
  },
  {
   "cell_type": "code",
   "execution_count": 131,
   "metadata": {},
   "outputs": [],
   "source": [
    "leaf_count = 0\n",
    "level = 0\n",
    "my_tree = build_tree(train_data, train_labels, leaf_limit=2,level_limit=3)\n",
    "\n",
    "leaf_count = 0\n",
    "\n",
    "dot = Digraph(node_attr={'shape': 'box'})    \n",
    "print_tree(my_tree, None)   \n",
    "# dot"
   ]
  },
  {
   "cell_type": "code",
   "execution_count": 132,
   "metadata": {},
   "outputs": [],
   "source": [
    "leaf_count = 0\n",
    "level = 0\n",
    "my_tree = build_tree(train_data, train_labels, leaf_limit=4, level_limit=2)\n",
    "\n",
    "leaf_count = 0\n",
    "\n",
    "dot = Digraph(node_attr={'shape': 'box'})    \n",
    "print_tree(my_tree, None)   \n",
    "# dot"
   ]
  },
  {
   "cell_type": "code",
   "execution_count": 133,
   "metadata": {},
   "outputs": [],
   "source": [
    "# Качество ответов на тестовой выборке лучше у дерева с ограничением глубины\n",
    "\n"
   ]
  },
  {
   "attachments": {},
   "cell_type": "markdown",
   "metadata": {},
   "source": [
    "#### 2. Для задачи классификации обучить дерево решений с использованием критериев разбиения Джини и Энтропия. Сравнить качество классификации, сделать выводы."
   ]
  },
  {
   "cell_type": "code",
   "execution_count": 134,
   "metadata": {},
   "outputs": [],
   "source": [
    "# Расчет критерия Энтропии\n",
    "\n",
    "def entropy(labels):\n",
    "    #  подсчет количества объектов разных классов\n",
    "    classes = {}\n",
    "    for label in labels:\n",
    "        if label not in classes:\n",
    "            classes[label] = 0\n",
    "        classes[label] += 1\n",
    "    \n",
    "    #  расчет критерия\n",
    "    impurity = 0\n",
    "    for label in classes:\n",
    "        p = classes[label] / len(labels)\n",
    "        impurity -= p *np.log2(p)\n",
    "        \n",
    "    return impurity"
   ]
  },
  {
   "cell_type": "code",
   "execution_count": 135,
   "metadata": {},
   "outputs": [],
   "source": [
    "# Расчет качества добавим аргумент, тип оценки\n",
    "\n",
    "def quality(left_labels, right_labels, current_quality,type_qualitu = 'gini'):\n",
    "\n",
    "    # доля выбоки, ушедшая в левое поддерево\n",
    "    p = float(left_labels.shape[0]) / (left_labels.shape[0] + right_labels.shape[0])\n",
    "    if type_qualitu == 'entropy':\n",
    "        return current_quality - p * entropy(left_labels) - (1 - p) * entropy(right_labels)  \n",
    "    return current_quality - p * gini(left_labels) - (1 - p) * gini(right_labels)"
   ]
  }
 ],
 "metadata": {
  "colab": {
   "collapsed_sections": [],
   "name": "Lesson_4.ipynb",
   "provenance": []
  },
  "kernelspec": {
   "display_name": "base",
   "language": "python",
   "name": "python3"
  },
  "language_info": {
   "codemirror_mode": {
    "name": "ipython",
    "version": 3
   },
   "file_extension": ".py",
   "mimetype": "text/x-python",
   "name": "python",
   "nbconvert_exporter": "python",
   "pygments_lexer": "ipython3",
   "version": "3.9.12"
  },
  "vscode": {
   "interpreter": {
    "hash": "452c276e810072ac0d070a9ecbd74ba181ab2f9a45b11b5d9d043df0d8e763c9"
   }
  }
 },
 "nbformat": 4,
 "nbformat_minor": 1
}
